{
 "cells": [
  {
   "cell_type": "code",
   "execution_count": 1,
   "metadata": {
    "collapsed": true
   },
   "outputs": [],
   "source": [
    "import numpy as np\n",
    "import matplotlib.pyplot as plt"
   ]
  },
  {
   "cell_type": "code",
   "execution_count": 3,
   "metadata": {},
   "outputs": [
    {
     "data": {
      "image/png": "[encoded data removed]",
      "text/plain": [
       "<matplotlib.figure.Figure at 0x7f24c0f85550>"
      ]
     },
     "metadata": {},
     "output_type": "display_data"
    }
   ],
   "source": [
    "x = np.array([2,3,9,4,1,0,2,7,0,5])\n",
    "y = np.array([2,0,4,3,1,2,5,3,1,3])\n",
    "\n",
    "data = np.column_stack((x,y)) #Stack two (n,) vectors as column vectors\n",
    "data =data - data.mean(axis=0)\n",
    "plt.plot(data, 'ro')\n",
    "plt.axis([0,10,0,10])\n",
    "plt.show()"
   ]
  },
  {
   "cell_type": "code",
   "execution_count": 4,
   "metadata": {},
   "outputs": [
    {
     "name": "stdout",
     "output_type": "stream",
     "text": [
      "[[ 8.9         2.2       ]\n",
      " [ 2.2         2.26666667]]\n",
      "Eigen Values [ 9.56331798  1.60334869]\n",
      "Eigen Vectors [[ 0.95742795 -0.28867235]\n",
      " [ 0.28867235  0.95742795]]\n",
      "Trying to prove Spectral Theorem\n",
      "Creating new orthogonal basis by eigen vectors\n",
      "\n",
      "Diagonal Matrix [[  9.56331798e+00   2.22044605e-16]\n",
      " [  4.44089210e-16   1.60334869e+00]]\n",
      "Maximum possible variance is 9.563317978753185 (largest eigen value)if we take projection on       first co-ordinate axis given by [ 0.95742795  0.28867235]\n",
      "This means if take projection of all the points in data on axis defined by        eigen vector corresponds to highest eigen value we will get variance of 9.563317978753185\n"
     ]
    }
   ],
   "source": [
    "cov_mat = np.cov(data, rowvar=False) #Use columns as features not row\n",
    "print(cov_mat)\n",
    "\n",
    "eigen_vals, eigen_vect = np.linalg.eig(cov_mat)\n",
    "print(\"Eigen Values\", eigen_vals)\n",
    "print(\"Eigen Vectors\", eigen_vect)\n",
    "\n",
    "print(\"Trying to prove Spectral Theorem\")\n",
    "print(\"Creating new orthogonal basis by eigen vectors\")\n",
    "\n",
    "inverse_mat = np.linalg.inv(eigen_vect)\n",
    "diagonal_matrix = np.dot(inverse_mat, np.dot(cov_mat, eigen_vect))\n",
    "print()\n",
    "print(\"Diagonal Matrix\", diagonal_matrix)\n",
    "print(\"Maximum possible variance is {} (largest eigen value)if we take projection on \\\n",
    "      first co-ordinate axis given by {}\".format(diagonal_matrix[0][0], eigen_vect[:,0]))\n",
    "print(\"This means if take projection of all the points in data on axis defined by \\\n",
    "       eigen vector corresponds to highest eigen value we will get variance of {}\".format(diagonal_matrix[0][0]))"
   ]
  },
  {
   "cell_type": "code",
   "execution_count": 10,
   "metadata": {},
   "outputs": [
    {
     "name": "stdout",
     "output_type": "stream",
     "text": [
      "[[-1.36012527 -0.00769712]\n",
      " [-0.98004203 -2.21122537]\n",
      " [ 5.91921506 -0.11354768]\n",
      " [ 0.84340297  0.37238612]\n",
      " [-2.60622557 -0.67645272]\n",
      " [-3.27498117  0.56964758]\n",
      " [-0.49410822  2.86458672]\n",
      " [ 3.71568681 -0.49363093]\n",
      " [-3.56365352 -0.38778037]\n",
      " [ 1.80083092  0.08371377]]\n",
      "Variance  [ 8.60698618  1.44301382]\n"
     ]
    }
   ],
   "source": [
    "PCA = np.dot(eigen_vect.T,data.T).T\n",
    "print(PCA)\n",
    "\n",
    "variance = np.var(PCA, axis=0)\n",
    "print(\"Variance \",variance)"
   ]
  },
  {
   "cell_type": "code",
   "execution_count": null,
   "metadata": {
    "collapsed": true
   },
   "outputs": [],
   "source": []
  }
 ],
 "metadata": {
  "kernelspec": {
   "display_name": "Python 3",
   "language": "python",
   "name": "python3"
  },
  "language_info": {
   "codemirror_mode": {
    "name": "ipython",
    "version": 3
   },
   "file_extension": ".py",
   "mimetype": "text/x-python",
   "name": "python",
   "nbconvert_exporter": "python",
   "pygments_lexer": "ipython3",
   "version": "3.6.1"
  }
 },
 "nbformat": 4,
 "nbformat_minor": 2
}
